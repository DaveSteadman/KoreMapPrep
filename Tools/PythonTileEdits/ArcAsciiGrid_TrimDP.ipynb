{
 "cells": [
  {
   "cell_type": "code",
   "execution_count": 2,
   "metadata": {},
   "outputs": [
    {
     "name": "stdout",
     "output_type": "stream",
     "text": [
      "Date: 2024-08-09 09:31:23 | Python Version: 3.12.5\n"
     ]
    }
   ],
   "source": [
    "from datetime import datetime; import sys\n",
    "print(f\"Date: {datetime.now():%Y-%m-%d %H:%M:%S} | Python Version: {sys.version.split()[0]}\")"
   ]
  },
  {
   "cell_type": "code",
   "execution_count": 14,
   "metadata": {},
   "outputs": [],
   "source": [
    "def process_file(input_file, output_file):\n",
    "    with open(input_file, 'r') as infile, open(output_file, 'w') as outfile:\n",
    "        for line in infile:\n",
    "            if any(char.isalpha() for char in line):\n",
    "                # If the line contains any alphabetic characters, write it as-is\n",
    "                outfile.write(line)\n",
    "            else:\n",
    "                # Initialize a list to hold processed numbers\n",
    "                processed_numbers = []\n",
    "\n",
    "                # Process each number in the line\n",
    "                for num in line.split():\n",
    "                    # Convert to float and round to 2 decimal places if necessary\n",
    "                    if '.' in num and len(num.split('.')[-1]) > 2:\n",
    "                        rounded_num = f'{float(num):.2f}'\n",
    "                    else:\n",
    "                        rounded_num = num\n",
    "\n",
    "                    # Remove trailing '.00' if present\n",
    "                    if rounded_num.endswith('.00'):\n",
    "                        rounded_num = rounded_num[:-3]\n",
    "\n",
    "                    # Append the processed number to the list\n",
    "                    processed_numbers.append(rounded_num)\n",
    "\n",
    "                # Join the processed numbers back into a single line\n",
    "                processed_line = ' '.join(processed_numbers)\n",
    "\n",
    "                # Write the processed line to the output file\n",
    "                outfile.write(processed_line + '\\n')"
   ]
  },
  {
   "cell_type": "code",
   "execution_count": 15,
   "metadata": {},
   "outputs": [],
   "source": [
    "import os\n",
    "\n",
    "def process_directory(input_dir, output_dir):\n",
    "    # Create the output directory if it doesn't exist\n",
    "    os.makedirs(output_dir, exist_ok=True)\n",
    "\n",
    "    # Find all .asc files in the input directory\n",
    "    for filename in os.listdir(input_dir):\n",
    "        if filename.endswith('.asc'):\n",
    "            input_file  = os.path.join(input_dir, filename)\n",
    "            output_file = os.path.join(output_dir, filename)\n",
    "\n",
    "            # Process the file and output to the new directory\n",
    "            process_file(input_file, output_file)\n",
    "            print(f\"Processed {input_file} -> {output_file}\")"
   ]
  },
  {
   "cell_type": "code",
   "execution_count": 18,
   "metadata": {},
   "outputs": [
    {
     "name": "stdout",
     "output_type": "stream",
     "text": [
      "Processed C:/Util/Godot/Globe4-Maps/MapLib/Lvl1_5x5/BF\\Ele_BF_AA.asc -> C:/Util/Godot/Globe4-Maps/MapLib/Lvl1_5x5/BF/Processed\\Ele_BF_AA.asc\n",
      "Processed C:/Util/Godot/Globe4-Maps/MapLib/Lvl1_5x5/BF\\Ele_BF_AB.asc -> C:/Util/Godot/Globe4-Maps/MapLib/Lvl1_5x5/BF/Processed\\Ele_BF_AB.asc\n",
      "Processed C:/Util/Godot/Globe4-Maps/MapLib/Lvl1_5x5/BF\\Ele_BF_AC.asc -> C:/Util/Godot/Globe4-Maps/MapLib/Lvl1_5x5/BF/Processed\\Ele_BF_AC.asc\n",
      "Processed C:/Util/Godot/Globe4-Maps/MapLib/Lvl1_5x5/BF\\Ele_BF_AD.asc -> C:/Util/Godot/Globe4-Maps/MapLib/Lvl1_5x5/BF/Processed\\Ele_BF_AD.asc\n",
      "Processed C:/Util/Godot/Globe4-Maps/MapLib/Lvl1_5x5/BF\\Ele_BF_AE.asc -> C:/Util/Godot/Globe4-Maps/MapLib/Lvl1_5x5/BF/Processed\\Ele_BF_AE.asc\n",
      "Processed C:/Util/Godot/Globe4-Maps/MapLib/Lvl1_5x5/BF\\Ele_BF_AF.asc -> C:/Util/Godot/Globe4-Maps/MapLib/Lvl1_5x5/BF/Processed\\Ele_BF_AF.asc\n",
      "Processed C:/Util/Godot/Globe4-Maps/MapLib/Lvl1_5x5/BF\\Ele_BF_BA.asc -> C:/Util/Godot/Globe4-Maps/MapLib/Lvl1_5x5/BF/Processed\\Ele_BF_BA.asc\n",
      "Processed C:/Util/Godot/Globe4-Maps/MapLib/Lvl1_5x5/BF\\Ele_BF_BB.asc -> C:/Util/Godot/Globe4-Maps/MapLib/Lvl1_5x5/BF/Processed\\Ele_BF_BB.asc\n",
      "Processed C:/Util/Godot/Globe4-Maps/MapLib/Lvl1_5x5/BF\\Ele_BF_BC.asc -> C:/Util/Godot/Globe4-Maps/MapLib/Lvl1_5x5/BF/Processed\\Ele_BF_BC.asc\n",
      "Processed C:/Util/Godot/Globe4-Maps/MapLib/Lvl1_5x5/BF\\Ele_BF_BD.asc -> C:/Util/Godot/Globe4-Maps/MapLib/Lvl1_5x5/BF/Processed\\Ele_BF_BD.asc\n",
      "Processed C:/Util/Godot/Globe4-Maps/MapLib/Lvl1_5x5/BF\\Ele_BF_BE.asc -> C:/Util/Godot/Globe4-Maps/MapLib/Lvl1_5x5/BF/Processed\\Ele_BF_BE.asc\n",
      "Processed C:/Util/Godot/Globe4-Maps/MapLib/Lvl1_5x5/BF\\Ele_BF_BF.asc -> C:/Util/Godot/Globe4-Maps/MapLib/Lvl1_5x5/BF/Processed\\Ele_BF_BF.asc\n",
      "Processed C:/Util/Godot/Globe4-Maps/MapLib/Lvl1_5x5/BF\\Ele_BF_CA.asc -> C:/Util/Godot/Globe4-Maps/MapLib/Lvl1_5x5/BF/Processed\\Ele_BF_CA.asc\n",
      "Processed C:/Util/Godot/Globe4-Maps/MapLib/Lvl1_5x5/BF\\Ele_BF_CB.asc -> C:/Util/Godot/Globe4-Maps/MapLib/Lvl1_5x5/BF/Processed\\Ele_BF_CB.asc\n",
      "Processed C:/Util/Godot/Globe4-Maps/MapLib/Lvl1_5x5/BF\\Ele_BF_CC.asc -> C:/Util/Godot/Globe4-Maps/MapLib/Lvl1_5x5/BF/Processed\\Ele_BF_CC.asc\n",
      "Processed C:/Util/Godot/Globe4-Maps/MapLib/Lvl1_5x5/BF\\Ele_BF_CD.asc -> C:/Util/Godot/Globe4-Maps/MapLib/Lvl1_5x5/BF/Processed\\Ele_BF_CD.asc\n",
      "Processed C:/Util/Godot/Globe4-Maps/MapLib/Lvl1_5x5/BF\\Ele_BF_CE.asc -> C:/Util/Godot/Globe4-Maps/MapLib/Lvl1_5x5/BF/Processed\\Ele_BF_CE.asc\n",
      "Processed C:/Util/Godot/Globe4-Maps/MapLib/Lvl1_5x5/BF\\Ele_BF_CF.asc -> C:/Util/Godot/Globe4-Maps/MapLib/Lvl1_5x5/BF/Processed\\Ele_BF_CF.asc\n",
      "Processed C:/Util/Godot/Globe4-Maps/MapLib/Lvl1_5x5/BF\\Ele_BF_DA.asc -> C:/Util/Godot/Globe4-Maps/MapLib/Lvl1_5x5/BF/Processed\\Ele_BF_DA.asc\n",
      "Processed C:/Util/Godot/Globe4-Maps/MapLib/Lvl1_5x5/BF\\Ele_BF_DB.asc -> C:/Util/Godot/Globe4-Maps/MapLib/Lvl1_5x5/BF/Processed\\Ele_BF_DB.asc\n",
      "Processed C:/Util/Godot/Globe4-Maps/MapLib/Lvl1_5x5/BF\\Ele_BF_DC.asc -> C:/Util/Godot/Globe4-Maps/MapLib/Lvl1_5x5/BF/Processed\\Ele_BF_DC.asc\n",
      "Processed C:/Util/Godot/Globe4-Maps/MapLib/Lvl1_5x5/BF\\Ele_BF_DD.asc -> C:/Util/Godot/Globe4-Maps/MapLib/Lvl1_5x5/BF/Processed\\Ele_BF_DD.asc\n",
      "Processed C:/Util/Godot/Globe4-Maps/MapLib/Lvl1_5x5/BF\\Ele_BF_DE.asc -> C:/Util/Godot/Globe4-Maps/MapLib/Lvl1_5x5/BF/Processed\\Ele_BF_DE.asc\n",
      "Processed C:/Util/Godot/Globe4-Maps/MapLib/Lvl1_5x5/BF\\Ele_BF_DF.asc -> C:/Util/Godot/Globe4-Maps/MapLib/Lvl1_5x5/BF/Processed\\Ele_BF_DF.asc\n",
      "Processed C:/Util/Godot/Globe4-Maps/MapLib/Lvl1_5x5/BF\\Ele_BF_EA.asc -> C:/Util/Godot/Globe4-Maps/MapLib/Lvl1_5x5/BF/Processed\\Ele_BF_EA.asc\n",
      "Processed C:/Util/Godot/Globe4-Maps/MapLib/Lvl1_5x5/BF\\Ele_BF_EB.asc -> C:/Util/Godot/Globe4-Maps/MapLib/Lvl1_5x5/BF/Processed\\Ele_BF_EB.asc\n",
      "Processed C:/Util/Godot/Globe4-Maps/MapLib/Lvl1_5x5/BF\\Ele_BF_EC.asc -> C:/Util/Godot/Globe4-Maps/MapLib/Lvl1_5x5/BF/Processed\\Ele_BF_EC.asc\n",
      "Processed C:/Util/Godot/Globe4-Maps/MapLib/Lvl1_5x5/BF\\Ele_BF_ED.asc -> C:/Util/Godot/Globe4-Maps/MapLib/Lvl1_5x5/BF/Processed\\Ele_BF_ED.asc\n",
      "Processed C:/Util/Godot/Globe4-Maps/MapLib/Lvl1_5x5/BF\\Ele_BF_EE.asc -> C:/Util/Godot/Globe4-Maps/MapLib/Lvl1_5x5/BF/Processed\\Ele_BF_EE.asc\n",
      "Processed C:/Util/Godot/Globe4-Maps/MapLib/Lvl1_5x5/BF\\Ele_BF_EF.asc -> C:/Util/Godot/Globe4-Maps/MapLib/Lvl1_5x5/BF/Processed\\Ele_BF_EF.asc\n",
      "Processed C:/Util/Godot/Globe4-Maps/MapLib/Lvl1_5x5/BF\\Ele_BF_FA.asc -> C:/Util/Godot/Globe4-Maps/MapLib/Lvl1_5x5/BF/Processed\\Ele_BF_FA.asc\n",
      "Processed C:/Util/Godot/Globe4-Maps/MapLib/Lvl1_5x5/BF\\Ele_BF_FB.asc -> C:/Util/Godot/Globe4-Maps/MapLib/Lvl1_5x5/BF/Processed\\Ele_BF_FB.asc\n",
      "Processed C:/Util/Godot/Globe4-Maps/MapLib/Lvl1_5x5/BF\\Ele_BF_FC.asc -> C:/Util/Godot/Globe4-Maps/MapLib/Lvl1_5x5/BF/Processed\\Ele_BF_FC.asc\n",
      "Processed C:/Util/Godot/Globe4-Maps/MapLib/Lvl1_5x5/BF\\Ele_BF_FD.asc -> C:/Util/Godot/Globe4-Maps/MapLib/Lvl1_5x5/BF/Processed\\Ele_BF_FD.asc\n",
      "Processed C:/Util/Godot/Globe4-Maps/MapLib/Lvl1_5x5/BF\\Ele_BF_FE.asc -> C:/Util/Godot/Globe4-Maps/MapLib/Lvl1_5x5/BF/Processed\\Ele_BF_FE.asc\n",
      "Processed C:/Util/Godot/Globe4-Maps/MapLib/Lvl1_5x5/BF\\Ele_BF_FF.asc -> C:/Util/Godot/Globe4-Maps/MapLib/Lvl1_5x5/BF/Processed\\Ele_BF_FF.asc\n"
     ]
    }
   ],
   "source": [
    "\n",
    "\n",
    "input_directory = 'C:/Util/Godot/Globe4-Maps/MapLib/Lvl1_5x5/BF'\n",
    "output_directory = 'C:/Util/Godot/Globe4-Maps/MapLib/Lvl1_5x5/BF/Processed'\n",
    "\n",
    "\n",
    "\n",
    "#input_directory = 'C:/Util/Godot/Globe4-Maps/MapLib/Lvl0_30x30'\n",
    "#output_directory = 'C:/Util/Godot/Globe4-Maps/MapLib/Lvl0_30x30/Processed'\n",
    "\n",
    "process_directory(input_directory, output_directory)"
   ]
  }
 ],
 "metadata": {
  "kernelspec": {
   "display_name": "Python 3",
   "language": "python",
   "name": "python3"
  },
  "language_info": {
   "codemirror_mode": {
    "name": "ipython",
    "version": 3
   },
   "file_extension": ".py",
   "mimetype": "text/x-python",
   "name": "python",
   "nbconvert_exporter": "python",
   "pygments_lexer": "ipython3",
   "version": "3.12.5"
  }
 },
 "nbformat": 4,
 "nbformat_minor": 2
}
