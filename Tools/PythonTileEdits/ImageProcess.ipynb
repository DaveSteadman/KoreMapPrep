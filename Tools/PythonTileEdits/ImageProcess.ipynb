{
 "cells": [
  {
   "cell_type": "code",
   "execution_count": 1,
   "metadata": {},
   "outputs": [
    {
     "name": "stdout",
     "output_type": "stream",
     "text": [
      "hello\n"
     ]
    }
   ],
   "source": [
    "print(\"hello\")\n"
   ]
  },
  {
   "cell_type": "code",
   "execution_count": 3,
   "metadata": {},
   "outputs": [],
   "source": [
    "from PIL import Image\n",
    "import os\n",
    "\n",
    "def resize_image(image_path):\n",
    "    print(f'Resizing: {os.path.basename(image_path)}')  # report filename\n",
    "    with Image.open(image_path) as img:\n",
    "        img_resized = img.resize((2048, 2048), Image.LANCZOS)\n",
    "        img_resized.save(image_path)\n",
    "\n",
    "def traverse_and_resize(directory):\n",
    "    for root, dirs, files in os.walk(directory):\n",
    "        for file in files:\n",
    "            if file.endswith(\".png\"):\n",
    "                file_path = os.path.join(root, file)\n",
    "                with Image.open(file_path) as img:\n",
    "                    width, height = img.size\n",
    "                    if width > 2048 and height > 2048:\n",
    "                        resize_image(file_path)\n"
   ]
  },
  {
   "cell_type": "code",
   "execution_count": 5,
   "metadata": {},
   "outputs": [
    {
     "name": "stdout",
     "output_type": "stream",
     "text": [
      "Resizing: Ele_A4_F9_C1_A1.png\n",
      "Resizing: Ele_A4_F9_C1_A2.png\n",
      "Resizing: Ele_A4_F9_C1_A3.png\n",
      "Resizing: Ele_A4_F9_C1_A4.png\n",
      "Resizing: Ele_A4_F9_C1_A5.png\n",
      "Resizing: Ele_A4_F9_C1_B1.png\n",
      "Resizing: Ele_A4_F9_C1_B2.png\n",
      "Resizing: Ele_A4_F9_C1_B3.png\n",
      "Resizing: Ele_A4_F9_C1_B4.png\n",
      "Resizing: Ele_A4_F9_C1_B5.png\n",
      "Resizing: Ele_A4_F9_C1_C1.png\n",
      "Resizing: Ele_A4_F9_C1_C2.png\n",
      "Resizing: Ele_A4_F9_C1_C3.png\n",
      "Resizing: Ele_A4_F9_C1_C4.png\n",
      "Resizing: Ele_A4_F9_C1_C5.png\n",
      "Resizing: Ele_A4_F9_C1_D1.png\n",
      "Resizing: Ele_A4_F9_C1_D2.png\n",
      "Resizing: Ele_A4_F9_C1_D3.png\n",
      "Resizing: Ele_A4_F9_C1_D4.png\n",
      "Resizing: Ele_A4_F9_C1_D5.png\n",
      "Resizing: Ele_A4_F9_C1_E1.png\n",
      "Resizing: Ele_A4_F9_C1_E2.png\n",
      "Resizing: Ele_A4_F9_C1_E3.png\n",
      "Resizing: Ele_A4_F9_C1_E4.png\n",
      "Resizing: Ele_A4_F9_C1_E5.png\n",
      "Resizing: Sat_A4_F9_C1_A1.png\n",
      "Resizing: Sat_A4_F9_C1_A2.png\n",
      "Resizing: Sat_A4_F9_C1_A3.png\n",
      "Resizing: Sat_A4_F9_C1_A4.png\n",
      "Resizing: Sat_A4_F9_C1_A5.png\n",
      "Resizing: Sat_A4_F9_C1_B1.png\n",
      "Resizing: Sat_A4_F9_C1_B2.png\n",
      "Resizing: Sat_A4_F9_C1_B3.png\n",
      "Resizing: Sat_A4_F9_C1_B4.png\n",
      "Resizing: Sat_A4_F9_C1_B5.png\n",
      "Resizing: Sat_A4_F9_C1_C1.png\n",
      "Resizing: Sat_A4_F9_C1_C2.png\n",
      "Resizing: Sat_A4_F9_C1_C3.png\n",
      "Resizing: Sat_A4_F9_C1_C4.png\n",
      "Resizing: Sat_A4_F9_C1_C5.png\n",
      "Resizing: Sat_A4_F9_C1_D1.png\n",
      "Resizing: Sat_A4_F9_C1_D2.png\n",
      "Resizing: Sat_A4_F9_C1_D3.png\n",
      "Resizing: Sat_A4_F9_C1_D4.png\n",
      "Resizing: Sat_A4_F9_C1_D5.png\n",
      "Resizing: Sat_A4_F9_C1_E1.png\n",
      "Resizing: Sat_A4_F9_C1_E2.png\n",
      "Resizing: Sat_A4_F9_C1_E3.png\n",
      "Resizing: Sat_A4_F9_C1_E4.png\n",
      "Resizing: Sat_A4_F9_C1_E5.png\n"
     ]
    }
   ],
   "source": [
    "directory = \"Z:/GlobeLibrary_Prep/Maps/Export\"\n",
    "traverse_and_resize(directory)"
   ]
  },
  {
   "cell_type": "code",
   "execution_count": 13,
   "metadata": {},
   "outputs": [],
   "source": [
    "def traverse_and_resize(directory, size, threshold):\n",
    "    threshold_size = int(size * (1 + threshold))\n",
    "    for root, dirs, files in os.walk(directory):\n",
    "        for file in files:\n",
    "            if file.endswith(\".png\"):\n",
    "                file_path = os.path.join(root, file)\n",
    "                with Image.open(file_path) as img:\n",
    "                    width, height = img.size\n",
    "                    if width > size and height > size and width <= threshold_size and height <= threshold_size:\n",
    "                        img_resized = img.resize((size, size), Image.LANCZOS)\n",
    "                        img_resized.save(file_path)"
   ]
  },
  {
   "cell_type": "code",
   "execution_count": 14,
   "metadata": {},
   "outputs": [],
   "source": [
    "directory = \"Z:\\GlobeLibrary\\Maps\\SatImg\\Level2_1x1Degs\"\n",
    "size = 1024  # Desired size\n",
    "threshold = 0.10  # 10% threshold\n",
    "traverse_and_resize(directory, size, threshold)"
   ]
  },
  {
   "cell_type": "code",
   "execution_count": 6,
   "metadata": {},
   "outputs": [],
   "source": [
    "from PIL import Image\n",
    "import os\n",
    "\n",
    "def is_blue(pixel, factor=1.1):\n",
    "    r, g, b, *_ = pixel\n",
    "    return b > (r * factor) and b > (g * factor)\n",
    "\n",
    "def blue_percentage(image_path, threshold):\n",
    "    with Image.open(image_path) as img:\n",
    "        pixels = img.load()\n",
    "        total_pixels = img.width * img.height\n",
    "        blue_pixels = sum(1 for x in range(img.width) for y in range(img.height) if is_blue(pixels[x, y]))\n",
    "        blue_percentage = blue_pixels / total_pixels\n",
    "        return blue_percentage\n",
    "\n",
    "def traverse_and_check(directory, threshold, perform_resize):\n",
    "    for root, dirs, files in os.walk(directory):\n",
    "        for file in files:\n",
    "            if file.endswith(\".png\"):\n",
    "                file_path = os.path.join(root, file)\n",
    "                blue_pct = blue_percentage(file_path, threshold)  # get the percentage\n",
    "                blue_check = blue_pct >= threshold\n",
    "                action = f\"{blue_pct * 100:.2f}% - Resized to 512x512\" if (perform_resize and blue_check) else f\"{blue_pct * 100:.2f}% - Will resize to 512x512\" if blue_check else f\"{blue_pct * 100:.2f}% - NOT BLUE\"\n",
    "                print(f\"{file_path}: {action}\")\n",
    "                if perform_resize and blue_check:\n",
    "                    with Image.open(file_path) as img:\n",
    "                        img_resized = img.resize((512, 512), Image.LANCZOS)\n",
    "                        img_resized.save(file_path)"
   ]
  },
  {
   "cell_type": "code",
   "execution_count": 7,
   "metadata": {},
   "outputs": [
    {
     "name": "stdout",
     "output_type": "stream",
     "text": [
      "Z:/GlobeLibrary_Prep/Maps/Export\\Ele_A4_F9_C1_A1.png: 0.00% - NOT BLUE\n",
      "Z:/GlobeLibrary_Prep/Maps/Export\\Ele_A4_F9_C1_A2.png: 0.00% - NOT BLUE\n",
      "Z:/GlobeLibrary_Prep/Maps/Export\\Ele_A4_F9_C1_A3.png: 0.00% - NOT BLUE\n",
      "Z:/GlobeLibrary_Prep/Maps/Export\\Ele_A4_F9_C1_A4.png: 0.00% - NOT BLUE\n",
      "Z:/GlobeLibrary_Prep/Maps/Export\\Ele_A4_F9_C1_A5.png: 0.00% - NOT BLUE\n",
      "Z:/GlobeLibrary_Prep/Maps/Export\\Ele_A4_F9_C1_B1.png: 0.00% - NOT BLUE\n",
      "Z:/GlobeLibrary_Prep/Maps/Export\\Ele_A4_F9_C1_B2.png: 0.00% - NOT BLUE\n",
      "Z:/GlobeLibrary_Prep/Maps/Export\\Ele_A4_F9_C1_B3.png: 0.00% - NOT BLUE\n",
      "Z:/GlobeLibrary_Prep/Maps/Export\\Ele_A4_F9_C1_B4.png: 0.00% - NOT BLUE\n",
      "Z:/GlobeLibrary_Prep/Maps/Export\\Ele_A4_F9_C1_B5.png: 0.00% - NOT BLUE\n",
      "Z:/GlobeLibrary_Prep/Maps/Export\\Ele_A4_F9_C1_C1.png: 0.00% - NOT BLUE\n",
      "Z:/GlobeLibrary_Prep/Maps/Export\\Ele_A4_F9_C1_C2.png: 0.00% - NOT BLUE\n",
      "Z:/GlobeLibrary_Prep/Maps/Export\\Ele_A4_F9_C1_C3.png: 0.00% - NOT BLUE\n",
      "Z:/GlobeLibrary_Prep/Maps/Export\\Ele_A4_F9_C1_C4.png: 0.00% - NOT BLUE\n",
      "Z:/GlobeLibrary_Prep/Maps/Export\\Ele_A4_F9_C1_C5.png: 0.00% - NOT BLUE\n",
      "Z:/GlobeLibrary_Prep/Maps/Export\\Ele_A4_F9_C1_D1.png: 0.00% - NOT BLUE\n",
      "Z:/GlobeLibrary_Prep/Maps/Export\\Ele_A4_F9_C1_D2.png: 0.00% - NOT BLUE\n",
      "Z:/GlobeLibrary_Prep/Maps/Export\\Ele_A4_F9_C1_D3.png: 0.00% - NOT BLUE\n",
      "Z:/GlobeLibrary_Prep/Maps/Export\\Ele_A4_F9_C1_D4.png: 0.00% - NOT BLUE\n",
      "Z:/GlobeLibrary_Prep/Maps/Export\\Ele_A4_F9_C1_D5.png: 0.00% - NOT BLUE\n",
      "Z:/GlobeLibrary_Prep/Maps/Export\\Ele_A4_F9_C1_E1.png: 0.00% - NOT BLUE\n",
      "Z:/GlobeLibrary_Prep/Maps/Export\\Ele_A4_F9_C1_E2.png: 0.00% - NOT BLUE\n",
      "Z:/GlobeLibrary_Prep/Maps/Export\\Ele_A4_F9_C1_E3.png: 0.00% - NOT BLUE\n",
      "Z:/GlobeLibrary_Prep/Maps/Export\\Ele_A4_F9_C1_E4.png: 0.00% - NOT BLUE\n",
      "Z:/GlobeLibrary_Prep/Maps/Export\\Ele_A4_F9_C1_E5.png: 0.00% - NOT BLUE\n",
      "Z:/GlobeLibrary_Prep/Maps/Export\\Sat_A4_F9_C1_A1.png: 100.00% - Resized to 512x512\n",
      "Z:/GlobeLibrary_Prep/Maps/Export\\Sat_A4_F9_C1_A2.png: 71.72% - NOT BLUE\n",
      "Z:/GlobeLibrary_Prep/Maps/Export\\Sat_A4_F9_C1_A3.png: 33.58% - NOT BLUE\n",
      "Z:/GlobeLibrary_Prep/Maps/Export\\Sat_A4_F9_C1_A4.png: 51.40% - NOT BLUE\n",
      "Z:/GlobeLibrary_Prep/Maps/Export\\Sat_A4_F9_C1_A5.png: 18.60% - NOT BLUE\n",
      "Z:/GlobeLibrary_Prep/Maps/Export\\Sat_A4_F9_C1_B1.png: 99.95% - Resized to 512x512\n",
      "Z:/GlobeLibrary_Prep/Maps/Export\\Sat_A4_F9_C1_B2.png: 97.66% - NOT BLUE\n",
      "Z:/GlobeLibrary_Prep/Maps/Export\\Sat_A4_F9_C1_B3.png: 98.36% - NOT BLUE\n",
      "Z:/GlobeLibrary_Prep/Maps/Export\\Sat_A4_F9_C1_B4.png: 100.00% - Resized to 512x512\n",
      "Z:/GlobeLibrary_Prep/Maps/Export\\Sat_A4_F9_C1_B5.png: 51.54% - NOT BLUE\n",
      "Z:/GlobeLibrary_Prep/Maps/Export\\Sat_A4_F9_C1_C1.png: 100.00% - Resized to 512x512\n",
      "Z:/GlobeLibrary_Prep/Maps/Export\\Sat_A4_F9_C1_C2.png: 100.00% - Resized to 512x512\n",
      "Z:/GlobeLibrary_Prep/Maps/Export\\Sat_A4_F9_C1_C3.png: 100.00% - Resized to 512x512\n",
      "Z:/GlobeLibrary_Prep/Maps/Export\\Sat_A4_F9_C1_C4.png: 100.00% - Resized to 512x512\n",
      "Z:/GlobeLibrary_Prep/Maps/Export\\Sat_A4_F9_C1_C5.png: 56.42% - NOT BLUE\n",
      "Z:/GlobeLibrary_Prep/Maps/Export\\Sat_A4_F9_C1_D1.png: 100.00% - Resized to 512x512\n",
      "Z:/GlobeLibrary_Prep/Maps/Export\\Sat_A4_F9_C1_D2.png: 100.00% - Resized to 512x512\n",
      "Z:/GlobeLibrary_Prep/Maps/Export\\Sat_A4_F9_C1_D3.png: 99.86% - NOT BLUE\n",
      "Z:/GlobeLibrary_Prep/Maps/Export\\Sat_A4_F9_C1_D4.png: 82.96% - NOT BLUE\n",
      "Z:/GlobeLibrary_Prep/Maps/Export\\Sat_A4_F9_C1_D5.png: 16.41% - NOT BLUE\n",
      "Z:/GlobeLibrary_Prep/Maps/Export\\Sat_A4_F9_C1_E1.png: 85.97% - NOT BLUE\n",
      "Z:/GlobeLibrary_Prep/Maps/Export\\Sat_A4_F9_C1_E2.png: 41.38% - NOT BLUE\n",
      "Z:/GlobeLibrary_Prep/Maps/Export\\Sat_A4_F9_C1_E3.png: 21.18% - NOT BLUE\n",
      "Z:/GlobeLibrary_Prep/Maps/Export\\Sat_A4_F9_C1_E4.png: 0.00% - NOT BLUE\n",
      "Z:/GlobeLibrary_Prep/Maps/Export\\Sat_A4_F9_C1_E5.png: 0.01% - NOT BLUE\n"
     ]
    }
   ],
   "source": [
    "directory = \"Z:/GlobeLibrary_Prep/Maps/Export\"\n",
    "threshold = 0.999  # 95% threshold for blue pixels\n",
    "perform_resize = True  # Set to True to perform resizing\n",
    "traverse_and_check(directory, threshold, perform_resize)"
   ]
  }
 ],
 "metadata": {
  "kernelspec": {
   "display_name": "Python 3",
   "language": "python",
   "name": "python3"
  },
  "language_info": {
   "codemirror_mode": {
    "name": "ipython",
    "version": 3
   },
   "file_extension": ".py",
   "mimetype": "text/x-python",
   "name": "python",
   "nbconvert_exporter": "python",
   "pygments_lexer": "ipython3",
   "version": "3.11.6"
  }
 },
 "nbformat": 4,
 "nbformat_minor": 2
}
